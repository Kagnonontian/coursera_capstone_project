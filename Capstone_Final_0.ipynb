{
    "nbformat_minor": 1, 
    "cells": [
        {
            "source": "## Introduction: Business Problem <a name=\"introduction\"></a>", 
            "cell_type": "markdown", 
            "metadata": {
                "collapsed": true
            }
        }, 
        {
            "source": "A conglomerate has decided to open a complex in **Abidjan, Ivory Coast**.\nThis complex is supposed to offer ten different categories of venues/activities.\n\nWe have been recruited as advisors to **help stakeholders determine the most expected categories of venues this complex could offer to its visitors** given what is already available in the city.\n\nWe will **use Data Science to help stakeholders make their decision to pick the most appropriate activities to make available in this complex**", 
            "cell_type": "markdown", 
            "metadata": {}
        }, 
        {
            "source": "", 
            "cell_type": "code", 
            "metadata": {}, 
            "outputs": [], 
            "execution_count": null
        }
    ], 
    "metadata": {
        "kernelspec": {
            "display_name": "Python 3.5", 
            "name": "python3", 
            "language": "python"
        }, 
        "language_info": {
            "mimetype": "text/x-python", 
            "nbconvert_exporter": "python", 
            "version": "3.5.5", 
            "name": "python", 
            "pygments_lexer": "ipython3", 
            "file_extension": ".py", 
            "codemirror_mode": {
                "version": 3, 
                "name": "ipython"
            }
        }
    }, 
    "nbformat": 4
}