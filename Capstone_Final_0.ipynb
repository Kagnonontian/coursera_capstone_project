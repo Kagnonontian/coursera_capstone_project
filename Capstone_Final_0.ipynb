{
    "nbformat_minor": 1, 
    "cells": [
        {
            "source": "### Introduction/Business Problem", 
            "cell_type": "markdown", 
            "metadata": {
                "collapsed": true
            }
        }, 
        {
            "source": "#### A conglomerate has decided to open a leisure park in Abidjan, Ivory Coast.\n#### We have been recruited as advisors to help stakeholders to find the best place where this park will be built and what kind of activity visitors can have there.\n#### How can Data Science be used to solve this problem?", 
            "cell_type": "markdown", 
            "metadata": {}
        }, 
        {
            "source": "", 
            "cell_type": "code", 
            "metadata": {}, 
            "outputs": [], 
            "execution_count": null
        }
    ], 
    "metadata": {
        "kernelspec": {
            "display_name": "Python 3.5", 
            "name": "python3", 
            "language": "python"
        }, 
        "language_info": {
            "mimetype": "text/x-python", 
            "nbconvert_exporter": "python", 
            "version": "3.5.5", 
            "name": "python", 
            "pygments_lexer": "ipython3", 
            "file_extension": ".py", 
            "codemirror_mode": {
                "version": 3, 
                "name": "ipython"
            }
        }
    }, 
    "nbformat": 4
}