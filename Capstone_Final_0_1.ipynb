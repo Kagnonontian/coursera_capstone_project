{
    "nbformat_minor": 1, 
    "cells": [
        {
            "source": "# Introduction", 
            "cell_type": "markdown", 
            "metadata": {
                "collapsed": true
            }
        }, 
        {
            "source": "## Data Description", 
            "cell_type": "markdown", 
            "metadata": {}
        }, 
        {
            "source": "**What Kind of data are we going to use?**\n\nFirst we are going to use data from **Foursquare** in order to gather the most popular venues in the city.\n\nFor each of them, we will obtain the following attributes: **Name,Category,longitude and latitude**\nThese data will be saved in a dataframe.\n\nFor **visualizing purpose**, these data will be **superimposed on a folium map in order to locate them in the city according to their coordinates**.\n\nData will then be processed so they can be **grouped by category**\nThus, it will be possible to visualize **the most common and also the least venue categories available in the city** using histograms and **pie charts**.\n\nGiven this result, we will then **exclude the most common categories from our study** and only **focus on the less represented venue categories**. \n\nFinally, we will retain the **ten less common venues categories compared to their distance to the complex**.\n\n**These final categories will be suggested as the most likely to retain attention from visitors**", 
            "cell_type": "markdown", 
            "metadata": {}
        }
    ], 
    "metadata": {
        "kernelspec": {
            "display_name": "Python 3.5", 
            "name": "python3", 
            "language": "python"
        }, 
        "language_info": {
            "mimetype": "text/x-python", 
            "nbconvert_exporter": "python", 
            "version": "3.5.5", 
            "name": "python", 
            "pygments_lexer": "ipython3", 
            "file_extension": ".py", 
            "codemirror_mode": {
                "version": 3, 
                "name": "ipython"
            }
        }
    }, 
    "nbformat": 4
}